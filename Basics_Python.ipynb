{
  "nbformat": 4,
  "nbformat_minor": 0,
  "metadata": {
    "colab": {
      "provenance": [],
      "authorship_tag": "ABX9TyMtM50/9/rMqyaXqraVgLwK",
      "include_colab_link": true
    },
    "kernelspec": {
      "name": "python3",
      "display_name": "Python 3"
    },
    "language_info": {
      "name": "python"
    }
  },
  "cells": [
    {
      "cell_type": "markdown",
      "metadata": {
        "id": "view-in-github",
        "colab_type": "text"
      },
      "source": [
        "<a href=\"https://colab.research.google.com/github/Saimani5454/basics_python/blob/main/Basics_Python.ipynb\" target=\"_parent\"><img src=\"https://colab.research.google.com/assets/colab-badge.svg\" alt=\"Open In Colab\"/></a>"
      ]
    },
    {
      "cell_type": "code",
      "execution_count": 7,
      "metadata": {
        "colab": {
          "base_uri": "https://localhost:8080/"
        },
        "id": "khNmgpede6dC",
        "outputId": "ebc43113-6463-45f7-c35d-dabee1b1a2cf"
      },
      "outputs": [
        {
          "output_type": "stream",
          "name": "stdout",
          "text": [
            "29 is a prime number.\n",
            "10 is not a prime number.\n"
          ]
        }
      ],
      "source": [
        "# prompt: Write a Python program that checks whether a given number is prime or not. A prime number is a natural number greater than 1 that has no positive divisors other than 1 and itself.\n",
        "\n",
        "def is_prime(n):\n",
        "\n",
        "    if n <= 1:\n",
        "        return False  # Numbers less than or equal to 1 are not prime\n",
        "    for i in range(2, int(n**0.5) + 1):\n",
        "        if n % i == 0:\n",
        "            return False  # If n is divisible by any number between 2 and sqrt(n), it's not prime\n",
        "    return True  # If no divisors are found, it's prime\n",
        "\n",
        "# Example usage:\n",
        "num = 29\n",
        "if is_prime(num):\n",
        "    print(f\"{num} is a prime number.\")\n",
        "else:\n",
        "    print(f\"{num} is not a prime number.\")\n",
        "\n",
        "num = 10\n",
        "if is_prime(num):\n",
        "    print(f\"{num} is a prime number.\")\n",
        "else:\n",
        "    print(f\"{num} is not a prime number.\")\n"
      ]
    },
    {
      "cell_type": "code",
      "source": [
        "#Product of Random Numbers\n",
        "# prompt: Develop a Python program that generates two random numbers and asks the user to enter the product of these numbers. The program should then check if the user's answer is correct and display an appropriate message.\n",
        "\n",
        "import random\n",
        "\n",
        "# Generate two random numbers\n",
        "num1 = random.randint(1, 10)  # You can adjust the range as needed\n",
        "num2 = random.randint(1, 10)\n",
        "\n",
        "# Calculate the correct product\n",
        "correct_product = num1 * num2\n",
        "\n",
        "# Ask the user for their answer\n",
        "try:\n",
        "    user_answer = int(input(f\"What is the product of {num1} and {num2}? \"))\n",
        "\n",
        "    # Check if the user's answer is correct\n",
        "    if user_answer == correct_product:\n",
        "        print(\"Correct! Well done.\")\n",
        "    else:\n",
        "        print(f\"Incorrect. The correct answer is {correct_product}.\")\n",
        "\n",
        "except ValueError:\n",
        "    print(\"Invalid input. Please enter an integer.\")"
      ],
      "metadata": {
        "colab": {
          "base_uri": "https://localhost:8080/"
        },
        "id": "RBszQTiOf6Km",
        "outputId": "be0d63a7-7847-46a0-b986-a84d7205a8a6"
      },
      "execution_count": 8,
      "outputs": [
        {
          "output_type": "stream",
          "name": "stdout",
          "text": [
            "What is the product of 8 and 4? \n",
            "Invalid input. Please enter an integer.\n"
          ]
        }
      ]
    },
    {
      "cell_type": "code",
      "source": [
        "#Squares of Even/Odd Numbers\n",
        "# prompt: Create a Python script that prints the squares of all even or odd numbers within the range of 100 to 200. Choose either even or odd numbers and document your choice in the code.\n",
        "\n",
        "# Option: Choose either 'even' or 'odd'\n",
        "choice = 'even'\n",
        "\n",
        "# Iterate through the range 100 to 200\n",
        "for number in range(100, 201):\n",
        "    if choice == 'even':\n",
        "        if number % 2 == 0:\n",
        "            print(f\"The square of {number} is: {number**2}\")\n",
        "    elif choice == 'odd':\n",
        "        if number % 2 != 0:\n",
        "            print(f\"The square of {number} is: {number**2}\")"
      ],
      "metadata": {
        "colab": {
          "base_uri": "https://localhost:8080/"
        },
        "id": "pe5hCNC3gaOj",
        "outputId": "f29eafd1-4729-4ee4-bbc2-e1c3a05d37f4"
      },
      "execution_count": 9,
      "outputs": [
        {
          "output_type": "stream",
          "name": "stdout",
          "text": [
            "The square of 100 is: 10000\n",
            "The square of 102 is: 10404\n",
            "The square of 104 is: 10816\n",
            "The square of 106 is: 11236\n",
            "The square of 108 is: 11664\n",
            "The square of 110 is: 12100\n",
            "The square of 112 is: 12544\n",
            "The square of 114 is: 12996\n",
            "The square of 116 is: 13456\n",
            "The square of 118 is: 13924\n",
            "The square of 120 is: 14400\n",
            "The square of 122 is: 14884\n",
            "The square of 124 is: 15376\n",
            "The square of 126 is: 15876\n",
            "The square of 128 is: 16384\n",
            "The square of 130 is: 16900\n",
            "The square of 132 is: 17424\n",
            "The square of 134 is: 17956\n",
            "The square of 136 is: 18496\n",
            "The square of 138 is: 19044\n",
            "The square of 140 is: 19600\n",
            "The square of 142 is: 20164\n",
            "The square of 144 is: 20736\n",
            "The square of 146 is: 21316\n",
            "The square of 148 is: 21904\n",
            "The square of 150 is: 22500\n",
            "The square of 152 is: 23104\n",
            "The square of 154 is: 23716\n",
            "The square of 156 is: 24336\n",
            "The square of 158 is: 24964\n",
            "The square of 160 is: 25600\n",
            "The square of 162 is: 26244\n",
            "The square of 164 is: 26896\n",
            "The square of 166 is: 27556\n",
            "The square of 168 is: 28224\n",
            "The square of 170 is: 28900\n",
            "The square of 172 is: 29584\n",
            "The square of 174 is: 30276\n",
            "The square of 176 is: 30976\n",
            "The square of 178 is: 31684\n",
            "The square of 180 is: 32400\n",
            "The square of 182 is: 33124\n",
            "The square of 184 is: 33856\n",
            "The square of 186 is: 34596\n",
            "The square of 188 is: 35344\n",
            "The square of 190 is: 36100\n",
            "The square of 192 is: 36864\n",
            "The square of 194 is: 37636\n",
            "The square of 196 is: 38416\n",
            "The square of 198 is: 39204\n",
            "The square of 200 is: 40000\n"
          ]
        }
      ]
    },
    {
      "cell_type": "code",
      "source": [
        "# prompt: write a program to count the number of words in a given text.\n",
        "\n",
        "\n",
        "input_text = \"This is a sample text. This text will be used to demonstrate the word counter.\"\n",
        "words = input_text.split()\n",
        "word_counts = {}\n",
        "for word in words:\n",
        "  if word in word_counts:\n",
        "    word_counts[word] += 1\n",
        "  else:\n",
        "    word_counts[word] = 1\n",
        "for word, count in word_counts.items():\n",
        "  print(f\"'{word}': {count}\")"
      ],
      "metadata": {
        "colab": {
          "base_uri": "https://localhost:8080/"
        },
        "id": "XT8NpUergvV6",
        "outputId": "9c14667e-3f2f-4aa7-9313-a604af44d68a"
      },
      "execution_count": 10,
      "outputs": [
        {
          "output_type": "stream",
          "name": "stdout",
          "text": [
            "'This': 2\n",
            "'is': 1\n",
            "'a': 1\n",
            "'sample': 1\n",
            "'text.': 1\n",
            "'text': 1\n",
            "'will': 1\n",
            "'be': 1\n",
            "'used': 1\n",
            "'to': 1\n",
            "'demonstrate': 1\n",
            "'the': 1\n",
            "'word': 1\n",
            "'counter.': 1\n"
          ]
        }
      ]
    },
    {
      "cell_type": "code",
      "source": [
        "# prompt: Write a Python function called is_palindrome that takes a string as input and returns True if the string is a palindrome, and False otherwise. A palindrome is a word, phrase, number, or other sequence of characters that reads the same forward and backward, ignoring spaces, punctuation, and capitalization.\n",
        "# Example:\n",
        "# Input: \"racecar\"\n",
        "# Expected Output: True\n",
        "\n",
        "import re\n",
        "\n",
        "def is_palindrome(text):\n",
        "    # Remove spaces, punctuation, and convert to lowercase\n",
        "    cleaned_text = re.sub(r'[^a-zA-Z0-9]', '', text).lower()\n",
        "    # Check if the cleaned text is equal to its reverse\n",
        "    return cleaned_text == cleaned_text[::-1]\n",
        "\n",
        "# Example usage:\n",
        "print(is_palindrome(\"racecar\"))\n",
        "print(is_palindrome(\"A man, a plan, a canal: Panama\"))\n",
        "print(is_palindrome(\"hello world\"))\n",
        "print(is_palindrome(\"No 'x' in Nixon\"))\n"
      ],
      "metadata": {
        "colab": {
          "base_uri": "https://localhost:8080/"
        },
        "id": "F9OLWjWThE-b",
        "outputId": "8cfbea8c-ee5e-4c11-c949-22088e59245d"
      },
      "execution_count": 11,
      "outputs": [
        {
          "output_type": "stream",
          "name": "stdout",
          "text": [
            "True\n",
            "True\n",
            "False\n",
            "True\n"
          ]
        }
      ]
    }
  ]
}